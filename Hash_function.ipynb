{
  "nbformat": 4,
  "nbformat_minor": 0,
  "metadata": {
    "colab": {
      "provenance": []
    },
    "kernelspec": {
      "name": "python3",
      "display_name": "Python 3"
    },
    "language_info": {
      "name": "python"
    }
  },
  "cells": [
    {
      "cell_type": "markdown",
      "source": [
        "\n",
        "# Hash function\n",
        "\n",
        "are fundamental cryptographic tools used in various applications such as data integrity verification, password storage, digital signatures, and etc.\n",
        "\n",
        "They are designed to take an input (or 'message') and produce a fixed-size string of bytes, known as the hash value or hash code.\n",
        "\n",
        "\n",
        "# **Algorithm:**\n",
        "\n",
        "\n",
        "\n",
        "**Padding:**\n",
        "The input message is padded to ensure its length is a multiple of 512 bits.\n",
        "\n",
        "Padding typically includes adding a single '1' bit followed by a sequence of '0' bits, and finally appending the length of the original message.\n",
        "\n",
        "**Message Digest Initialization:**\n",
        "\n",
        "Initialize eight 32-bit variables, known as 'working variables' (h0 to h7), with specific constants.\n",
        "\n",
        "These constants are derived from the first 32 bits of the fractional parts of the square roots of the first eight prime numbers.\n",
        "\n",
        "**Processing the Message in Blocks:**\n",
        "\n",
        "The padded message is divided into 512-bit blocks.\n",
        "\n",
        "Each block is further divided into sixteen 32-bit words.\n",
        "\n",
        "**Message Schedule:**\n",
        "\n",
        "Extend the sixteen 32-bit words into 64 32-bit words, forming the 'message schedule' array.\n",
        "\n",
        "This extension involves applying a series of logical functions to the original words.\n",
        "\n",
        "**Compression Function:**\n",
        "\n",
        "Iterate through the message schedule array in chunks of 64 words.\n",
        "\n",
        "Perform a series of logical operations, including bitwise rotation, addition modulo 2^32, and XOR operations.\n",
        "\n",
        "**Output:**\n",
        "\n",
        "After processing all blocks, concatenate the final values of the working variables to produce the hash value.\n",
        "\n",
        "This hash value represents a unique and fixed-size representation of the input message.\n",
        "\n"
      ],
      "metadata": {
        "id": "4fsiznk06sLO"
      }
    },
    {
      "cell_type": "code",
      "execution_count": 3,
      "metadata": {
        "colab": {
          "base_uri": "https://localhost:8080/"
        },
        "id": "PGPlqD2S6dHO",
        "outputId": "942a936f-4dca-4b53-ec43-da3d31b594f4"
      },
      "outputs": [
        {
          "output_type": "stream",
          "name": "stdout",
          "text": [
            "Hash value: 315f5bdb76d078c43b8ac0064e4a0164612b1fce77c869345bfc94c75894edd3\n"
          ]
        }
      ],
      "source": [
        "\n",
        "import hashlib\n",
        "\n",
        "def compute_hash(message):\n",
        "    # Create a SHA-256 hash object\n",
        "    hash_object = hashlib.sha256()\n",
        "    # Update the hash object with the message bytes\n",
        "    hash_object.update(message.encode())\n",
        "    # Get the hexadecimal digest (hash value)\n",
        "    hash_value = hash_object.hexdigest()\n",
        "    return hash_value\n",
        "\n",
        "# Example usage\n",
        "message = \"Hello, world!\"\n",
        "hash_value = compute_hash(message)\n",
        "print(\"Hash value:\", hash_value)"
      ]
    }
  ]
}