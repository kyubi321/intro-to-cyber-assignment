{
  "nbformat": 4,
  "nbformat_minor": 0,
  "metadata": {
    "colab": {
      "provenance": []
    },
    "kernelspec": {
      "name": "python3",
      "display_name": "Python 3"
    },
    "language_info": {
      "name": "python"
    }
  },
  "cells": [
    {
      "cell_type": "markdown",
      "source": [
        "\n",
        "# Asymmetric encryption algorithms\n",
        "\n",
        "# **RSA (Rivest-Shamir-Adleman)**\n",
        "\n",
        "RSA involves generating public and private key pairs based on the difficulty of factoring large prime numbers.\n",
        "\n",
        "**Key Generation:**\n",
        "Generate two large prime numbers, p and q.\n",
        "\n",
        "\n",
        "Calculate n = p * q.\n",
        "\n",
        "Calculate φ(n) = (p-1) * (q-1).\n",
        "\n",
        "Choose an integer e such that 1 < e < φ(n) and gcd(e, φ(n)) = 1.\n",
        "\n",
        "Compute d as the modular multiplicative inverse of e modulo φ(n).\n",
        "\n",
        "**Encryption:**\n",
        "Convert the plaintext message into an integer m.\n",
        "\n",
        "Compute the ciphertext c as c ≡ m^e (mod n).\n",
        "\n",
        "**Decryption:**\n",
        "Compute the plaintext message m as m ≡ c^d (mod n).\n",
        "\n",
        "\n",
        "lets now look at the implementation of RSA in python using prebuilt Libraries\n",
        "\n",
        "\n"
      ],
      "metadata": {
        "id": "7TH0oqBKyj3f"
      }
    },
    {
      "cell_type": "code",
      "source": [
        "!pip install cryptography\n"
      ],
      "metadata": {
        "colab": {
          "base_uri": "https://localhost:8080/"
        },
        "id": "UrSrsBhbzycv",
        "outputId": "a4b510ef-7b08-4788-d236-ec8dd8a7bb5b"
      },
      "execution_count": 1,
      "outputs": [
        {
          "output_type": "stream",
          "name": "stdout",
          "text": [
            "Requirement already satisfied: cryptography in /usr/local/lib/python3.10/dist-packages (42.0.5)\n",
            "Requirement already satisfied: cffi>=1.12 in /usr/local/lib/python3.10/dist-packages (from cryptography) (1.16.0)\n",
            "Requirement already satisfied: pycparser in /usr/local/lib/python3.10/dist-packages (from cffi>=1.12->cryptography) (2.22)\n"
          ]
        }
      ]
    },
    {
      "cell_type": "code",
      "source": [
        "from cryptography.hazmat.backends import default_backend\n",
        "from cryptography.hazmat.primitives.asymmetric import rsa, padding\n",
        "from cryptography.hazmat.primitives import serialization\n",
        "from cryptography.hazmat.primitives import hashes\n",
        "from cryptography.hazmat.primitives.asymmetric import ec\n",
        "\n",
        "# RSA Encryption and Decryption\n",
        "\n",
        "# Generate RSA key pair\n",
        "private_key_rsa = rsa.generate_private_key(\n",
        "    public_exponent=65537,\n",
        "    key_size=2048,\n",
        "    backend=default_backend()\n",
        ")\n",
        "public_key_rsa = private_key_rsa.public_key()\n",
        "\n",
        "# Plaintext message\n",
        "plaintext_rsa = b\"Hello, RSA!\"\n",
        "\n",
        "# Encryption\n",
        "ciphertext_rsa = public_key_rsa.encrypt(\n",
        "    plaintext_rsa,\n",
        "    padding.OAEP(\n",
        "        mgf=padding.MGF1(algorithm=hashes.SHA256()),\n",
        "        algorithm=hashes.SHA256(),\n",
        "        label=None\n",
        "    )\n",
        ")\n",
        "\n",
        "# Decryption\n",
        "decrypted_rsa = private_key_rsa.decrypt(\n",
        "    ciphertext_rsa,\n",
        "    padding.OAEP(\n",
        "        mgf=padding.MGF1(algorithm=hashes.SHA256()),\n",
        "        algorithm=hashes.SHA256(),\n",
        "        label=None\n",
        "    )\n",
        ")\n",
        "\n",
        "print(\"RSA Encrypted:\", ciphertext_rsa)\n",
        "print(\"RSA Decrypted:\", decrypted_rsa)\n"
      ],
      "metadata": {
        "colab": {
          "base_uri": "https://localhost:8080/"
        },
        "id": "ZjY9tyyjzwOh",
        "outputId": "c59cb131-bc88-4970-9544-0a90fb136fc5"
      },
      "execution_count": 2,
      "outputs": [
        {
          "output_type": "stream",
          "name": "stdout",
          "text": [
            "RSA Encrypted: b\"%\\x05\\x87\\x1c\\xb2\\xc7\\xe0c\\xcf\\xb6|.6\\xa4\\xd0K\\x1c}\\xc7\\xb4:q\\x1d\\x94]N\\x04p\\x97\\xc56\\xf3\\xfb\\x05\\xfc\\x05\\xa8\\xab\\xaaG\\xe0-\\xa6\\xf6{f<\\xf6\\xfc%@\\xb8vm\\xc2\\xf8b\\xa7H\\xe0\\xa7(fB\\xd9yLki:\\xa5H\\xb2\\xe2\\x04'd\\xb56q\\x17\\x06\\x9b\\xbc\\xc9\\x86\\x03\\xb9w\\x94$n\\x97\\xb9\\x1f\\xf2g\\xa1lj\\xf6\\xd3\\x1e\\n\\x10\\x81\\xcd\\xd0|h\\x0b\\xb4\\x01\\xf8\\x89\\xb3\\xd31 -\\x9c)\\x10\\xad@\\x90\\xd2B\\x87<q\\x14\\xe8B=\\x11\\xc3\\x94\\xe1\\xc5\\x8b?\\xc5\\x04\\xa3\\xaapM\\x06\\x13x\\x83\\xa7\\x1e\\x98\\x1d1y\\x95*\\x14R\\xe3\\xa3\\x0bL\\xcd\\x15T\\xd1\\x1dy8\\xa2\\xa5\\xf0\\xfe\\xe4\\xa0\\xb2<\\xef?/\\x9b\\xecw\\x91\\xe6\\x87\\x9dS\\xc0\\xa3\\xd9\\x95\\x073I\\xcc\\xe91r\\x10(<\\xea\\x92\\xbd# \\xdc##\\xee\\x9c8\\x89n\\x1d\\x19\\x9f7\\xc8\\x19n|+d\\xcf\\xbd7.T\\xdfD\\x96\\x9e\\x1a\\xfa\\xa3\\xd0\\x10\\x07\\x12C\\xf8Y \\x18\\xceL-\\x007\\xfd\"\n",
            "RSA Decrypted: b'Hello, RSA!'\n"
          ]
        }
      ]
    },
    {
      "cell_type": "markdown",
      "source": [
        "# **ElGamal encryption**\n",
        "\n",
        "  is a public-key cryptosystem that offers secure communication over insecure channels. It is based on the difficulty of solving the discrete logarithm problem in finite fields.\n",
        "\n",
        "In ElGamal encryption:\n",
        "\n",
        "Each user has a public key and a private key.\n",
        "\n",
        "The public key is used for encryption, while the private key is used for decryption.\n",
        "\n",
        "Encryption involves selecting a random value and performing modular exponentiation.\n",
        "\n",
        "Decryption relies on the private key to reverse the encryption process.\n",
        "\n",
        "now lets see how its implemented in python:"
      ],
      "metadata": {
        "id": "gW_XsceT4XFt"
      }
    },
    {
      "cell_type": "code",
      "source": [
        "import random\n",
        "\n",
        "# Function to generate a random prime number of specified bit length\n",
        "def generate_prime(bits):\n",
        "    while True:\n",
        "        p = random.getrandbits(bits)\n",
        "        if is_prime(p):\n",
        "            return p\n",
        "\n",
        "# Function to check if a number is prime\n",
        "def is_prime(n, k=5):\n",
        "    if n <= 1:\n",
        "        return False\n",
        "    if n <= 3:\n",
        "        return True\n",
        "    for _ in range(k):\n",
        "        a = random.randint(2, n - 2)\n",
        "        if pow(a, n - 1, n) != 1:\n",
        "            return False\n",
        "    return True\n",
        "\n",
        "# Function to generate a generator (primitive root) for a prime number p\n",
        "def find_generator(p):\n",
        "    for g in range(2, p):\n",
        "        if pow(g, (p - 1) // 2, p) != 1 and pow(g, p - 1, p) == 1:\n",
        "            return g\n",
        "    return None\n",
        "\n",
        "# Function to generate a public/private key pair\n",
        "def generate_keypair(bits):\n",
        "    # Choose large prime numbers p and q\n",
        "    p = generate_prime(bits)\n",
        "    g = find_generator(p)\n",
        "    a = random.randint(2, p - 2)\n",
        "    A = pow(g, a, p)\n",
        "    return ((p, g, A), a)\n",
        "\n",
        "# Function to encrypt a message using ElGamal encryption\n",
        "def encrypt(message, public_key):\n",
        "    p, g, A = public_key\n",
        "    k = random.randint(2, p - 2)\n",
        "    K = pow(A, k, p)\n",
        "    c1 = pow(g, k, p)\n",
        "    c2 = (message * K) % p\n",
        "    return (c1, c2)\n",
        "\n",
        "# Function to decrypt a ciphertext using ElGamal encryption\n",
        "def decrypt(ciphertext, private_key):\n",
        "    p, a = private_key\n",
        "    c1, c2 = ciphertext\n",
        "    K = pow(c1, a, p)\n",
        "    message = (c2 * pow(K, -1, p)) % p\n",
        "    return message\n",
        "\n",
        "# Generate a keypair\n",
        "public_key, private_key = generate_keypair(128)\n",
        "\n",
        "# Plaintext message\n",
        "plaintext = 123456789\n",
        "\n",
        "# Encryption\n",
        "ciphertext = encrypt(plaintext, public_key)\n",
        "\n",
        "# Decryption\n",
        "decrypted_plaintext = decrypt(ciphertext, (public_key[0], private_key))\n",
        "\n",
        "print(\"Original Plaintext:\", plaintext)\n",
        "print(\"ElGamal Encrypted:\", ciphertext)\n",
        "print(\"ElGamal Decrypted:\", decrypted_plaintext)\n"
      ],
      "metadata": {
        "colab": {
          "base_uri": "https://localhost:8080/"
        },
        "id": "nvQKORHz3_59",
        "outputId": "97c8a3ec-13b8-4f5b-8175-af147867c801"
      },
      "execution_count": 9,
      "outputs": [
        {
          "output_type": "stream",
          "name": "stdout",
          "text": [
            "Original Plaintext: 123456789\n",
            "ElGamal Encrypted: (109376416504228645498695313252580159434, 13355086267691028151743146919217069493)\n",
            "ElGamal Decrypted: 123456789\n"
          ]
        }
      ]
    }
  ]
}