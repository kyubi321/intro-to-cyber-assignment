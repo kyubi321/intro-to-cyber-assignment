{
  "nbformat": 4,
  "nbformat_minor": 0,
  "metadata": {
    "colab": {
      "provenance": []
    },
    "kernelspec": {
      "name": "python3",
      "display_name": "Python 3"
    },
    "language_info": {
      "name": "python"
    }
  },
  "cells": [
    {
      "cell_type": "markdown",
      "source": [
        "**AES (Advanced Encryption Standard) Implementation**\n",
        "\n",
        "AES (Advanced Encryption Standard) is a symmetric encryption algorithm widely used for securing sensitive data.\n",
        "It was established as a standard by the U.S. National Institute of Standards and Technology (NIST) in 2001, replacing the older Data Encryption Standard (DES).\n",
        "\n",
        "some features of AES are :\n",
        "Symmetric Encryption: AES is a symmetric encryption algorithm, meaning the same\n",
        "key is used for both encryption and decryption.\n",
        "\n",
        "Block Cipher: AES operates on fixed-size blocks of data, with the most common block size being 128 bits.\n",
        "\n",
        "Key Sizes: AES supports key sizes of 128, 192, and 256 bits. The strength of the encryption increases with the key size, with AES-256 being the most secure.\n",
        "\n",
        "Rounds: AES consists of multiple rounds of encryption, with the number of rounds depending on the key size, AES-256 has 14 rounds.\n",
        "\n",
        "now lets see how to implement the aes encryption and decryption using pre built python package \"**Crypto**\".\n",
        "\n",
        "steps:\n",
        "\n",
        "**import neccessary packages**\n",
        "\n",
        "```\n",
        "from Crypto.Cipher import AES\n",
        "from Crypto.Random import get_random_bytes\n",
        "from Crypto.Util.Padding import pad, unpad\n",
        "\n",
        "```\n",
        "**lets create the function for encryption**\n",
        "\n",
        "\n",
        "```\n",
        "def aes_encrypt(message, key):\n",
        "    cipher = AES.new(key, AES.MODE_CBC)\n",
        "    cipher_text = cipher.encrypt(pad(message, AES.block_size))\n",
        "    return cipher.iv + cipher_text\n",
        "```\n",
        "\n",
        "\n",
        "\n",
        "\n"
      ],
      "metadata": {
        "id": "tokSlgv_IAs4"
      }
    },
    {
      "cell_type": "markdown",
      "source": [
        "what this block of code does is,\n",
        "It takes a message and a key as inputs.\n",
        "and  pads the message to make its length a multiple of the block size required by AES.\n",
        "Then, it encrypts the padded message using AES in CBC mode.\n",
        "Finally, it returns the encrypted message along with the initialization vector (IV) used for encryption.\n",
        "The IV is necessary for CBC mode to ensure secure encryption."
      ],
      "metadata": {
        "id": "inM0Jsd9j8t3"
      }
    },
    {
      "cell_type": "markdown",
      "source": [
        "**lets create the function for decryption**\n",
        "\n",
        "```\n",
        "\n",
        "\n",
        "def aes_decrypt(cipher_text, key):\n",
        "    iv = cipher_text[:AES.block_size]\n",
        "    cipher = AES.new(key, AES.MODE_CBC, iv)\n",
        "    plain_text = unpad(cipher.decrypt(cipher_text[AES.block_size:]), AES.block_size)\n",
        "    return plain_text\n",
        "```\n",
        "in\n",
        "It , the function extracts the initialization vector (IV) from the beginning of the ciphertext.then\n",
        "It initializes the AES cipher with the key and IV in CBC mode.\n",
        "Then, it decrypts the ciphertext using the AES cipher.\n",
        "and  removes any padding from the decrypted plaintext.\n",
        "Finally, it returns the decrypted plaintext."
      ],
      "metadata": {
        "id": "p35NCAe0kW6q"
      }
    },
    {
      "cell_type": "markdown",
      "source": [
        "\n",
        "**now lets test it with a test case scenerio**\n",
        "\n",
        "```\n",
        "message = b\"Hello, this is a secret message!\"\n",
        "key = get_random_bytes(16)  # 128-bit key\n",
        "cipher_text = aes_encrypt(message, key)\n",
        "decrypted_message = aes_decrypt(cipher_text, key)\n",
        "```\n",
        "\n",
        "\n"
      ],
      "metadata": {
        "id": "QSKwCEeqlE5e"
      }
    },
    {
      "cell_type": "markdown",
      "source": [],
      "metadata": {
        "id": "QelexqvflW7J"
      }
    },
    {
      "cell_type": "code",
      "source": [
        "from Crypto.Cipher import AES\n",
        "from Crypto.Random import get_random_bytes\n",
        "from Crypto.Util.Padding import pad, unpad\n",
        "\n",
        "def aes_encrypt(message, key):\n",
        "    cipher = AES.new(key, AES.MODE_CBC)\n",
        "    cipher_text = cipher.encrypt(pad(message, AES.block_size))\n",
        "    return cipher.iv + cipher_text\n",
        "\n",
        "def aes_decrypt(cipher_text, key):\n",
        "    iv = cipher_text[:AES.block_size]\n",
        "    cipher = AES.new(key, AES.MODE_CBC, iv)\n",
        "    plain_text = unpad(cipher.decrypt(cipher_text[AES.block_size:]), AES.block_size)\n",
        "    return plain_text\n",
        "\n",
        "\n",
        "message = b\"Hello, this is a secret message!\"\n",
        "key = get_random_bytes(16)  # 128-bit key\n",
        "cipher_text = aes_encrypt(message, key)\n",
        "decrypted_message = aes_decrypt(cipher_text, key)\n",
        "\n",
        "print(\"Original message:\", message)\n",
        "print(\"cipher text:\", cipher_text)\n",
        "print(\"Decrypted message:\", decrypted_message)\n"
      ],
      "metadata": {
        "id": "k2O3l1IsIeH_",
        "colab": {
          "base_uri": "https://localhost:8080/"
        },
        "outputId": "6135bcec-69d3-4bf7-fa6c-b1d49b8bceeb"
      },
      "execution_count": null,
      "outputs": [
        {
          "output_type": "stream",
          "name": "stdout",
          "text": [
            "Original message: b'Hello, this is a secret message!'\n",
            "cipher text: b'2\\xe5\\x10\\xd1\\xf1\\xe1Z\\x97\\xc8ueF\\x92F\\x90\"\\x1c\\x81\\x8d0\\xf2\\xeb\\xe4\\xf3\\xd2JJ\\x00\\xef\\x12&\\x84\\xba\\xba:\\x8f\\xcb\\xe6B\\xc2\\x02g\\xe5\\x84\\x1a%5\\xd9*\\xe2S\\xa0,?5\\xce\\xde\\xd0\\xdd\\x83Z\\x06^\\xd6'\n",
            "Decrypted message: b'Hello, this is a secret message!'\n"
          ]
        }
      ]
    },
    {
      "cell_type": "markdown",
      "source": [
        "**DES (Data Encryption Standard) Implementation**"
      ],
      "metadata": {
        "id": "LFqqswDiQS9x"
      }
    },
    {
      "cell_type": "markdown",
      "source": [
        "\n",
        "DES (Data Encryption Standard) is a classic encryption algorithm used to secure data. It works by scrambling plaintext into ciphertext using a secret key. DES was one of the earliest widely used encryption standards, but due to advances in computing power, it's now considered relatively insecure for modern use.\n",
        "now lets see how to implement the des encryption and decryption using pre built python package \"Crypto\".\n",
        "\n",
        "steps:\n",
        "\n",
        "**import neccessary packages**\n",
        "\n",
        "\n",
        "```\n",
        "from Crypto.Cipher import DES\n",
        "from Crypto.Random import get_random_bytes\n",
        "\n",
        "```\n",
        "**lets create the function for encryption**\n",
        "\n",
        "\n",
        "\n",
        "```\n",
        "def des_encrypt(message, key):\n",
        "    cipher = DES.new(key, DES.MODE_ECB)\n",
        "    return cipher.encrypt(message)\n",
        "```\n",
        "It takes a message and a key as inputs.\n",
        "Then, it initializes the DES cipher with the given key using the ECB (Electronic Codebook) mode.\n",
        "The ECB mode encrypts each block of the message independently, using the same key.then\n",
        "Finally, it returns the encrypted message.\n",
        "\n",
        "**lets create the function for decryption**\n",
        "\n",
        "\n",
        "```\n",
        "def des_decrypt(cipher_text, key):\n",
        "    cipher = DES.new(key, DES.MODE_ECB)\n",
        "    return cipher.decrypt(cipher_text)\n",
        "```\n",
        "\n",
        "It takes the ciphertext and a key as inputs.then\n",
        "It initializes the DES cipher with the given key using the ECB (Electronic Codebook) mode.\n",
        "The ECB mode decrypts each block of the ciphertext independently, using the same key.\n",
        "Finally, it returns the decrypted plaintext\n",
        "\n",
        "**now lets test it with a test case scenerio**\n",
        "\n",
        "\n",
        "\n",
        "```\n",
        "message = b\"Hello, this is a secret message!\"\n",
        "key = get_random_bytes(8)  # 64-bit key\n",
        "cipher_text = des_encrypt(message, key)\n",
        "decrypted_message = des_decrypt(cipher_text, key)\n",
        "\n",
        "print(\"Original message:\", message)\n",
        "print(\"cipher text:\", cipher_text)\n",
        "print(\"Decrypted message:\", decrypted_message)\n",
        "```\n",
        "\n",
        "\n",
        "\n",
        "\n"
      ],
      "metadata": {
        "id": "Z5n1Gdq6mc21"
      }
    },
    {
      "cell_type": "code",
      "source": [
        "from Crypto.Cipher import DES\n",
        "from Crypto.Random import get_random_bytes\n",
        "\n",
        "def des_encrypt(message, key):\n",
        "    cipher = DES.new(key, DES.MODE_ECB)\n",
        "    return cipher.encrypt(message)\n",
        "\n",
        "def des_decrypt(cipher_text, key):\n",
        "    cipher = DES.new(key, DES.MODE_ECB)\n",
        "    return cipher.decrypt(cipher_text)\n",
        "\n",
        "# Example usage:\n",
        "message = b\"Hello, this is a secret message!\"\n",
        "key = get_random_bytes(8)  # 64-bit key\n",
        "cipher_text = des_encrypt(message, key)\n",
        "decrypted_message = des_decrypt(cipher_text, key)\n",
        "\n",
        "print(\"Original message:\", message)\n",
        "print(\"cipher text:\", cipher_text)\n",
        "print(\"Decrypted message:\", decrypted_message)\n"
      ],
      "metadata": {
        "colab": {
          "base_uri": "https://localhost:8080/"
        },
        "id": "r_mMj4DNQi3O",
        "outputId": "8cccf23a-d5e9-4ca5-9caa-2a4a30f7b42c"
      },
      "execution_count": null,
      "outputs": [
        {
          "output_type": "stream",
          "name": "stdout",
          "text": [
            "Original message: b'Hello, this is a secret message!'\n",
            "cipher text: b'k\\xb1\\x88\\x04\\xc0\\x88\\xd3\\x07\\xb3\\x8b\\x99\\xcebV\\xfe\\x9c\\t\\r\\xf8\\x15\\xc9\\xf9\\xd6T\\x92\\x1e\\x85\\xa2\\r\\xd81#'\n",
            "Decrypted message: b'Hello, this is a secret message!'\n"
          ]
        }
      ]
    }
  ]
}